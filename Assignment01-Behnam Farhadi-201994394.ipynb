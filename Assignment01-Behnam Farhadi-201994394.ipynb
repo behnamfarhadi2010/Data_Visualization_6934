{
 "cells": [
  {
   "cell_type": "markdown",
   "id": "8caf805c",
   "metadata": {},
   "source": [
    "# Data Visualization\n"
   ]
  },
  {
   "cell_type": "markdown",
   "id": "f30b8fc5",
   "metadata": {},
   "source": [
    "# Behnam Farhadi - 201994394"
   ]
  },
  {
   "cell_type": "markdown",
   "id": "20506c0c",
   "metadata": {},
   "source": [
    "## 19 Sep 2021"
   ]
  },
  {
   "cell_type": "markdown",
   "id": "990a01d5",
   "metadata": {},
   "source": [
    "I did this exercise indivisually"
   ]
  },
  {
   "cell_type": "markdown",
   "id": "c1f46e31",
   "metadata": {},
   "source": [
    "### Assignment 1   –  Computer Science 4304 / 6934 \n"
   ]
  },
  {
   "cell_type": "code",
   "execution_count": 122,
   "id": "d6730f0a",
   "metadata": {},
   "outputs": [],
   "source": [
    "import pandas as pd"
   ]
  },
  {
   "cell_type": "code",
   "execution_count": 123,
   "id": "970e9284",
   "metadata": {},
   "outputs": [],
   "source": [
    "df = pd.read_csv('students.csv')"
   ]
  },
  {
   "cell_type": "code",
   "execution_count": 124,
   "id": "e014a6b4",
   "metadata": {},
   "outputs": [
    {
     "data": {
      "text/html": [
       "<div>\n",
       "<style scoped>\n",
       "    .dataframe tbody tr th:only-of-type {\n",
       "        vertical-align: middle;\n",
       "    }\n",
       "\n",
       "    .dataframe tbody tr th {\n",
       "        vertical-align: top;\n",
       "    }\n",
       "\n",
       "    .dataframe thead th {\n",
       "        text-align: right;\n",
       "    }\n",
       "</style>\n",
       "<table border=\"1\" class=\"dataframe\">\n",
       "  <thead>\n",
       "    <tr style=\"text-align: right;\">\n",
       "      <th></th>\n",
       "      <th>REF_DATE</th>\n",
       "      <th>GEO</th>\n",
       "      <th>Institution type</th>\n",
       "      <th>Registration status</th>\n",
       "      <th>International Standard Classification of Education (ISCED)</th>\n",
       "      <th>Field of study</th>\n",
       "      <th>Gender</th>\n",
       "      <th>Status of student in Canada</th>\n",
       "      <th>VALUE</th>\n",
       "    </tr>\n",
       "  </thead>\n",
       "  <tbody>\n",
       "    <tr>\n",
       "      <th>0</th>\n",
       "      <td>2018/2019</td>\n",
       "      <td>Newfoundland and Labrador</td>\n",
       "      <td>University</td>\n",
       "      <td>Full-time student</td>\n",
       "      <td>Bachelor's or equivalent</td>\n",
       "      <td>Education [1]</td>\n",
       "      <td>Male gender</td>\n",
       "      <td>Canadian students</td>\n",
       "      <td>129.0</td>\n",
       "    </tr>\n",
       "    <tr>\n",
       "      <th>1</th>\n",
       "      <td>2018/2019</td>\n",
       "      <td>Newfoundland and Labrador</td>\n",
       "      <td>University</td>\n",
       "      <td>Full-time student</td>\n",
       "      <td>Bachelor's or equivalent</td>\n",
       "      <td>Education [1]</td>\n",
       "      <td>Male gender</td>\n",
       "      <td>International students</td>\n",
       "      <td>3.0</td>\n",
       "    </tr>\n",
       "    <tr>\n",
       "      <th>2</th>\n",
       "      <td>2018/2019</td>\n",
       "      <td>Newfoundland and Labrador</td>\n",
       "      <td>University</td>\n",
       "      <td>Full-time student</td>\n",
       "      <td>Bachelor's or equivalent</td>\n",
       "      <td>Education [1]</td>\n",
       "      <td>Female gender</td>\n",
       "      <td>Canadian students</td>\n",
       "      <td>243.0</td>\n",
       "    </tr>\n",
       "    <tr>\n",
       "      <th>3</th>\n",
       "      <td>2018/2019</td>\n",
       "      <td>Newfoundland and Labrador</td>\n",
       "      <td>University</td>\n",
       "      <td>Full-time student</td>\n",
       "      <td>Bachelor's or equivalent</td>\n",
       "      <td>Education [1]</td>\n",
       "      <td>Female gender</td>\n",
       "      <td>International students</td>\n",
       "      <td>3.0</td>\n",
       "    </tr>\n",
       "    <tr>\n",
       "      <th>4</th>\n",
       "      <td>2018/2019</td>\n",
       "      <td>Newfoundland and Labrador</td>\n",
       "      <td>University</td>\n",
       "      <td>Full-time student</td>\n",
       "      <td>Bachelor's or equivalent</td>\n",
       "      <td>Education [1]</td>\n",
       "      <td>Gender unknown</td>\n",
       "      <td>Canadian students</td>\n",
       "      <td>3.0</td>\n",
       "    </tr>\n",
       "  </tbody>\n",
       "</table>\n",
       "</div>"
      ],
      "text/plain": [
       "    REF_DATE                        GEO Institution type Registration status  \\\n",
       "0  2018/2019  Newfoundland and Labrador       University   Full-time student   \n",
       "1  2018/2019  Newfoundland and Labrador       University   Full-time student   \n",
       "2  2018/2019  Newfoundland and Labrador       University   Full-time student   \n",
       "3  2018/2019  Newfoundland and Labrador       University   Full-time student   \n",
       "4  2018/2019  Newfoundland and Labrador       University   Full-time student   \n",
       "\n",
       "  International Standard Classification of Education (ISCED) Field of study  \\\n",
       "0                           Bachelor's or equivalent          Education [1]   \n",
       "1                           Bachelor's or equivalent          Education [1]   \n",
       "2                           Bachelor's or equivalent          Education [1]   \n",
       "3                           Bachelor's or equivalent          Education [1]   \n",
       "4                           Bachelor's or equivalent          Education [1]   \n",
       "\n",
       "           Gender Status of student in Canada  VALUE  \n",
       "0     Male gender           Canadian students  129.0  \n",
       "1     Male gender      International students    3.0  \n",
       "2   Female gender           Canadian students  243.0  \n",
       "3   Female gender      International students    3.0  \n",
       "4  Gender unknown           Canadian students    3.0  "
      ]
     },
     "execution_count": 124,
     "metadata": {},
     "output_type": "execute_result"
    }
   ],
   "source": [
    "df.head()"
   ]
  },
  {
   "cell_type": "code",
   "execution_count": 125,
   "id": "3cab3988",
   "metadata": {},
   "outputs": [
    {
     "data": {
      "text/html": [
       "<div>\n",
       "<style scoped>\n",
       "    .dataframe tbody tr th:only-of-type {\n",
       "        vertical-align: middle;\n",
       "    }\n",
       "\n",
       "    .dataframe tbody tr th {\n",
       "        vertical-align: top;\n",
       "    }\n",
       "\n",
       "    .dataframe thead th {\n",
       "        text-align: right;\n",
       "    }\n",
       "</style>\n",
       "<table border=\"1\" class=\"dataframe\">\n",
       "  <thead>\n",
       "    <tr style=\"text-align: right;\">\n",
       "      <th></th>\n",
       "      <th>VALUE</th>\n",
       "    </tr>\n",
       "  </thead>\n",
       "  <tbody>\n",
       "    <tr>\n",
       "      <th>count</th>\n",
       "      <td>6221.000000</td>\n",
       "    </tr>\n",
       "    <tr>\n",
       "      <th>mean</th>\n",
       "      <td>346.457804</td>\n",
       "    </tr>\n",
       "    <tr>\n",
       "      <th>std</th>\n",
       "      <td>1655.118043</td>\n",
       "    </tr>\n",
       "    <tr>\n",
       "      <th>min</th>\n",
       "      <td>0.000000</td>\n",
       "    </tr>\n",
       "    <tr>\n",
       "      <th>25%</th>\n",
       "      <td>3.000000</td>\n",
       "    </tr>\n",
       "    <tr>\n",
       "      <th>50%</th>\n",
       "      <td>21.000000</td>\n",
       "    </tr>\n",
       "    <tr>\n",
       "      <th>75%</th>\n",
       "      <td>126.000000</td>\n",
       "    </tr>\n",
       "    <tr>\n",
       "      <th>max</th>\n",
       "      <td>49371.000000</td>\n",
       "    </tr>\n",
       "  </tbody>\n",
       "</table>\n",
       "</div>"
      ],
      "text/plain": [
       "              VALUE\n",
       "count   6221.000000\n",
       "mean     346.457804\n",
       "std     1655.118043\n",
       "min        0.000000\n",
       "25%        3.000000\n",
       "50%       21.000000\n",
       "75%      126.000000\n",
       "max    49371.000000"
      ]
     },
     "execution_count": 125,
     "metadata": {},
     "output_type": "execute_result"
    }
   ],
   "source": [
    "df.describe()"
   ]
  },
  {
   "cell_type": "markdown",
   "id": "fd6d4c14",
   "metadata": {},
   "source": [
    "### Question 1: (10 pts)\n",
    "### Write code that finds the number of unique fields of study"
   ]
  },
  {
   "cell_type": "code",
   "execution_count": 126,
   "id": "6197b8d4",
   "metadata": {},
   "outputs": [
    {
     "data": {
      "text/plain": [
       "14"
      ]
     },
     "execution_count": 126,
     "metadata": {},
     "output_type": "execute_result"
    }
   ],
   "source": [
    "df['Field of study'].nunique()"
   ]
  },
  {
   "cell_type": "code",
   "execution_count": 127,
   "id": "fcaa67ee",
   "metadata": {},
   "outputs": [
    {
     "data": {
      "text/plain": [
       "6221"
      ]
     },
     "execution_count": 127,
     "metadata": {},
     "output_type": "execute_result"
    }
   ],
   "source": [
    "len(df)"
   ]
  },
  {
   "cell_type": "markdown",
   "id": "2cf3eb4e",
   "metadata": {},
   "source": [
    "### Question 2: (10 pts)\n",
    "### Write code that lists all the unique degree types in the International Standard Classification of Education (ISCED) field."
   ]
  },
  {
   "cell_type": "code",
   "execution_count": 128,
   "id": "fccc2b6e",
   "metadata": {},
   "outputs": [
    {
     "data": {
      "text/plain": [
       "array([\"Bachelor's or equivalent\", \"Master's or equivalent\",\n",
       "       'Doctoral or equivalent', 'Post-secondary non-tertiary education',\n",
       "       'Short-cycle tertiary education',\n",
       "       'Not applicable, International Standard Classification of Education (ISCED)',\n",
       "       'Upper secondary education'], dtype=object)"
      ]
     },
     "execution_count": 128,
     "metadata": {},
     "output_type": "execute_result"
    }
   ],
   "source": [
    "df['International Standard Classification of Education (ISCED)'].unique()"
   ]
  },
  {
   "cell_type": "markdown",
   "id": "bf129de1",
   "metadata": {},
   "source": [
    "### Question 3: (10 pts)\n",
    "### Write code to determine the number of entries in the data set that have institution type of University or College. "
   ]
  },
  {
   "cell_type": "code",
   "execution_count": 129,
   "id": "809b3849",
   "metadata": {},
   "outputs": [
    {
     "data": {
      "text/plain": [
       "University    3567\n",
       "College       2654\n",
       "Name: Institution type, dtype: int64"
      ]
     },
     "execution_count": 129,
     "metadata": {},
     "output_type": "execute_result"
    }
   ],
   "source": [
    "df['Institution type'].value_counts()"
   ]
  },
  {
   "cell_type": "markdown",
   "id": "ee4df0d9",
   "metadata": {},
   "source": [
    "### Question 4: (15 pts)\n",
    "### Write code that computes the total number of students enrolled in Newfoundland and Labrador (hint: 24 777)."
   ]
  },
  {
   "cell_type": "code",
   "execution_count": 130,
   "id": "6b357d09",
   "metadata": {},
   "outputs": [
    {
     "data": {
      "text/plain": [
       "array(['Newfoundland and Labrador', 'Prince Edward Island', 'Nova Scotia',\n",
       "       'New Brunswick', 'Quebec', 'Ontario', 'Manitoba', 'Saskatchewan',\n",
       "       'Alberta', 'British Columbia', 'Territories'], dtype=object)"
      ]
     },
     "execution_count": 130,
     "metadata": {},
     "output_type": "execute_result"
    }
   ],
   "source": [
    "df['GEO'].unique()"
   ]
  },
  {
   "cell_type": "code",
   "execution_count": 131,
   "id": "e4681d91",
   "metadata": {},
   "outputs": [],
   "source": [
    "df1= df[df['GEO'].str.contains('Newfoundland and Labrador')]"
   ]
  },
  {
   "cell_type": "code",
   "execution_count": 132,
   "id": "faac3bf5",
   "metadata": {},
   "outputs": [
    {
     "data": {
      "text/plain": [
       "24777.0"
      ]
     },
     "execution_count": 132,
     "metadata": {},
     "output_type": "execute_result"
    }
   ],
   "source": [
    "df1['VALUE'].sum()"
   ]
  },
  {
   "cell_type": "code",
   "execution_count": 133,
   "id": "6c29dc05",
   "metadata": {},
   "outputs": [
    {
     "data": {
      "text/html": [
       "<div>\n",
       "<style scoped>\n",
       "    .dataframe tbody tr th:only-of-type {\n",
       "        vertical-align: middle;\n",
       "    }\n",
       "\n",
       "    .dataframe tbody tr th {\n",
       "        vertical-align: top;\n",
       "    }\n",
       "\n",
       "    .dataframe thead th {\n",
       "        text-align: right;\n",
       "    }\n",
       "</style>\n",
       "<table border=\"1\" class=\"dataframe\">\n",
       "  <thead>\n",
       "    <tr style=\"text-align: right;\">\n",
       "      <th></th>\n",
       "      <th>REF_DATE</th>\n",
       "      <th>GEO</th>\n",
       "      <th>Institution type</th>\n",
       "      <th>Registration status</th>\n",
       "      <th>International Standard Classification of Education (ISCED)</th>\n",
       "      <th>Field of study</th>\n",
       "      <th>Gender</th>\n",
       "      <th>Status of student in Canada</th>\n",
       "      <th>VALUE</th>\n",
       "    </tr>\n",
       "  </thead>\n",
       "  <tbody>\n",
       "    <tr>\n",
       "      <th>0</th>\n",
       "      <td>2018/2019</td>\n",
       "      <td>Newfoundland and Labrador</td>\n",
       "      <td>University</td>\n",
       "      <td>Full-time student</td>\n",
       "      <td>Bachelor's or equivalent</td>\n",
       "      <td>Education [1]</td>\n",
       "      <td>Male gender</td>\n",
       "      <td>Canadian students</td>\n",
       "      <td>129.0</td>\n",
       "    </tr>\n",
       "    <tr>\n",
       "      <th>1</th>\n",
       "      <td>2018/2019</td>\n",
       "      <td>Newfoundland and Labrador</td>\n",
       "      <td>University</td>\n",
       "      <td>Full-time student</td>\n",
       "      <td>Bachelor's or equivalent</td>\n",
       "      <td>Education [1]</td>\n",
       "      <td>Male gender</td>\n",
       "      <td>International students</td>\n",
       "      <td>3.0</td>\n",
       "    </tr>\n",
       "    <tr>\n",
       "      <th>2</th>\n",
       "      <td>2018/2019</td>\n",
       "      <td>Newfoundland and Labrador</td>\n",
       "      <td>University</td>\n",
       "      <td>Full-time student</td>\n",
       "      <td>Bachelor's or equivalent</td>\n",
       "      <td>Education [1]</td>\n",
       "      <td>Female gender</td>\n",
       "      <td>Canadian students</td>\n",
       "      <td>243.0</td>\n",
       "    </tr>\n",
       "    <tr>\n",
       "      <th>3</th>\n",
       "      <td>2018/2019</td>\n",
       "      <td>Newfoundland and Labrador</td>\n",
       "      <td>University</td>\n",
       "      <td>Full-time student</td>\n",
       "      <td>Bachelor's or equivalent</td>\n",
       "      <td>Education [1]</td>\n",
       "      <td>Female gender</td>\n",
       "      <td>International students</td>\n",
       "      <td>3.0</td>\n",
       "    </tr>\n",
       "    <tr>\n",
       "      <th>4</th>\n",
       "      <td>2018/2019</td>\n",
       "      <td>Newfoundland and Labrador</td>\n",
       "      <td>University</td>\n",
       "      <td>Full-time student</td>\n",
       "      <td>Bachelor's or equivalent</td>\n",
       "      <td>Education [1]</td>\n",
       "      <td>Gender unknown</td>\n",
       "      <td>Canadian students</td>\n",
       "      <td>3.0</td>\n",
       "    </tr>\n",
       "    <tr>\n",
       "      <th>...</th>\n",
       "      <td>...</td>\n",
       "      <td>...</td>\n",
       "      <td>...</td>\n",
       "      <td>...</td>\n",
       "      <td>...</td>\n",
       "      <td>...</td>\n",
       "      <td>...</td>\n",
       "      <td>...</td>\n",
       "      <td>...</td>\n",
       "    </tr>\n",
       "    <tr>\n",
       "      <th>6216</th>\n",
       "      <td>2018/2019</td>\n",
       "      <td>Territories</td>\n",
       "      <td>College</td>\n",
       "      <td>Part-time student</td>\n",
       "      <td>Not applicable, International Standard Classif...</td>\n",
       "      <td>Unclassified</td>\n",
       "      <td>Male gender</td>\n",
       "      <td>Not reported, status of student in Canada</td>\n",
       "      <td>144.0</td>\n",
       "    </tr>\n",
       "    <tr>\n",
       "      <th>6217</th>\n",
       "      <td>2018/2019</td>\n",
       "      <td>Territories</td>\n",
       "      <td>College</td>\n",
       "      <td>Part-time student</td>\n",
       "      <td>Not applicable, International Standard Classif...</td>\n",
       "      <td>Unclassified</td>\n",
       "      <td>Female gender</td>\n",
       "      <td>Canadian students</td>\n",
       "      <td>810.0</td>\n",
       "    </tr>\n",
       "    <tr>\n",
       "      <th>6218</th>\n",
       "      <td>2018/2019</td>\n",
       "      <td>Territories</td>\n",
       "      <td>College</td>\n",
       "      <td>Part-time student</td>\n",
       "      <td>Not applicable, International Standard Classif...</td>\n",
       "      <td>Unclassified</td>\n",
       "      <td>Female gender</td>\n",
       "      <td>Not reported, status of student in Canada</td>\n",
       "      <td>246.0</td>\n",
       "    </tr>\n",
       "    <tr>\n",
       "      <th>6219</th>\n",
       "      <td>2018/2019</td>\n",
       "      <td>Territories</td>\n",
       "      <td>College</td>\n",
       "      <td>Part-time student</td>\n",
       "      <td>Not applicable, International Standard Classif...</td>\n",
       "      <td>Unclassified</td>\n",
       "      <td>Gender unknown</td>\n",
       "      <td>Canadian students</td>\n",
       "      <td>216.0</td>\n",
       "    </tr>\n",
       "    <tr>\n",
       "      <th>6220</th>\n",
       "      <td>2018/2019</td>\n",
       "      <td>Territories</td>\n",
       "      <td>College</td>\n",
       "      <td>Part-time student</td>\n",
       "      <td>Not applicable, International Standard Classif...</td>\n",
       "      <td>Unclassified</td>\n",
       "      <td>Gender unknown</td>\n",
       "      <td>Not reported, status of student in Canada</td>\n",
       "      <td>72.0</td>\n",
       "    </tr>\n",
       "  </tbody>\n",
       "</table>\n",
       "<p>6221 rows × 9 columns</p>\n",
       "</div>"
      ],
      "text/plain": [
       "       REF_DATE                        GEO Institution type  \\\n",
       "0     2018/2019  Newfoundland and Labrador       University   \n",
       "1     2018/2019  Newfoundland and Labrador       University   \n",
       "2     2018/2019  Newfoundland and Labrador       University   \n",
       "3     2018/2019  Newfoundland and Labrador       University   \n",
       "4     2018/2019  Newfoundland and Labrador       University   \n",
       "...         ...                        ...              ...   \n",
       "6216  2018/2019                Territories          College   \n",
       "6217  2018/2019                Territories          College   \n",
       "6218  2018/2019                Territories          College   \n",
       "6219  2018/2019                Territories          College   \n",
       "6220  2018/2019                Territories          College   \n",
       "\n",
       "     Registration status  \\\n",
       "0      Full-time student   \n",
       "1      Full-time student   \n",
       "2      Full-time student   \n",
       "3      Full-time student   \n",
       "4      Full-time student   \n",
       "...                  ...   \n",
       "6216   Part-time student   \n",
       "6217   Part-time student   \n",
       "6218   Part-time student   \n",
       "6219   Part-time student   \n",
       "6220   Part-time student   \n",
       "\n",
       "     International Standard Classification of Education (ISCED)  \\\n",
       "0                              Bachelor's or equivalent           \n",
       "1                              Bachelor's or equivalent           \n",
       "2                              Bachelor's or equivalent           \n",
       "3                              Bachelor's or equivalent           \n",
       "4                              Bachelor's or equivalent           \n",
       "...                                                 ...           \n",
       "6216  Not applicable, International Standard Classif...           \n",
       "6217  Not applicable, International Standard Classif...           \n",
       "6218  Not applicable, International Standard Classif...           \n",
       "6219  Not applicable, International Standard Classif...           \n",
       "6220  Not applicable, International Standard Classif...           \n",
       "\n",
       "     Field of study          Gender  \\\n",
       "0     Education [1]     Male gender   \n",
       "1     Education [1]     Male gender   \n",
       "2     Education [1]   Female gender   \n",
       "3     Education [1]   Female gender   \n",
       "4     Education [1]  Gender unknown   \n",
       "...             ...             ...   \n",
       "6216   Unclassified     Male gender   \n",
       "6217   Unclassified   Female gender   \n",
       "6218   Unclassified   Female gender   \n",
       "6219   Unclassified  Gender unknown   \n",
       "6220   Unclassified  Gender unknown   \n",
       "\n",
       "                    Status of student in Canada  VALUE  \n",
       "0                             Canadian students  129.0  \n",
       "1                        International students    3.0  \n",
       "2                             Canadian students  243.0  \n",
       "3                        International students    3.0  \n",
       "4                             Canadian students    3.0  \n",
       "...                                         ...    ...  \n",
       "6216  Not reported, status of student in Canada  144.0  \n",
       "6217                          Canadian students  810.0  \n",
       "6218  Not reported, status of student in Canada  246.0  \n",
       "6219                          Canadian students  216.0  \n",
       "6220  Not reported, status of student in Canada   72.0  \n",
       "\n",
       "[6221 rows x 9 columns]"
      ]
     },
     "execution_count": 133,
     "metadata": {},
     "output_type": "execute_result"
    }
   ],
   "source": [
    "df"
   ]
  },
  {
   "cell_type": "markdown",
   "id": "ec8e789c",
   "metadata": {},
   "source": [
    "### Question 5: (15 pts)\n",
    "### Write code that computes the number of female and number of male students enrolled at Memorial University of Newfoundland (hint: institution type = University, GEO = Newfoundland and Labrador)."
   ]
  },
  {
   "cell_type": "code",
   "execution_count": 134,
   "id": "dff88121",
   "metadata": {},
   "outputs": [
    {
     "name": "stdout",
     "output_type": "stream",
     "text": [
      "The male Gender Number:\n"
     ]
    },
    {
     "data": {
      "text/plain": [
       "7656.0"
      ]
     },
     "execution_count": 134,
     "metadata": {},
     "output_type": "execute_result"
    }
   ],
   "source": [
    "Male = df[df[\"GEO\"].str.contains('Newfoundland and Labrador') & df['Institution type'].str.contains('University') & df['Gender'].str.contains('Male gender')]\n",
    "\n",
    "MaleGender = Male ['VALUE'].sum()\n",
    "\n",
    "print (\"The male Gender Number:\" ) \n",
    "MaleGender\n"
   ]
  },
  {
   "cell_type": "code",
   "execution_count": 135,
   "id": "87411313",
   "metadata": {},
   "outputs": [
    {
     "name": "stdout",
     "output_type": "stream",
     "text": [
      "The Female Gender Number:\n"
     ]
    },
    {
     "data": {
      "text/plain": [
       "10080.0"
      ]
     },
     "execution_count": 135,
     "metadata": {},
     "output_type": "execute_result"
    }
   ],
   "source": [
    "Female = df[df[\"GEO\"].str.contains('Newfoundland and Labrador') & df['Institution type'].str.contains('University') & df['Gender'].str.contains('Female gender')]\n",
    "FemaleGender = Female ['VALUE'].sum()\n",
    "print (\"The Female Gender Number:\" ) \n",
    "\n",
    "FemaleGender"
   ]
  },
  {
   "cell_type": "markdown",
   "id": "dc724092",
   "metadata": {},
   "source": [
    "Total Number of Student"
   ]
  },
  {
   "cell_type": "code",
   "execution_count": 136,
   "id": "ce9d1bb3",
   "metadata": {},
   "outputs": [
    {
     "name": "stdout",
     "output_type": "stream",
     "text": [
      "17736.0\n"
     ]
    }
   ],
   "source": [
    "Total = MaleGender + FemaleGender\n",
    "print (Total)\n"
   ]
  },
  {
   "cell_type": "markdown",
   "id": "a4fff64b",
   "metadata": {},
   "source": [
    "### Question 6: (10 pts)\n",
    "### Turn your notebook into a document with text. Using Markdown, add an appropriate title to the top of the notebook, along with your name and date. Add appropriate sub-headings before your answers to each of the questions."
   ]
  }
 ],
 "metadata": {
  "kernelspec": {
   "display_name": "Python 3",
   "language": "python",
   "name": "python3"
  },
  "language_info": {
   "codemirror_mode": {
    "name": "ipython",
    "version": 3
   },
   "file_extension": ".py",
   "mimetype": "text/x-python",
   "name": "python",
   "nbconvert_exporter": "python",
   "pygments_lexer": "ipython3",
   "version": "3.8.8"
  }
 },
 "nbformat": 4,
 "nbformat_minor": 5
}
