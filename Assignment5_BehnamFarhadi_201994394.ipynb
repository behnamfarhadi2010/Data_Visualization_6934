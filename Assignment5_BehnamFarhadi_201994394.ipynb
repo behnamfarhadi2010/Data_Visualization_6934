{
 "cells": [
  {
   "cell_type": "markdown",
   "id": "958b48d2",
   "metadata": {},
   "source": [
    "# Behnam Farhadi\n",
    "### 201994394    bfarhadi@mun.ca\n",
    "#### I did this assignment individually\n"
   ]
  },
  {
   "cell_type": "code",
   "execution_count": 681,
   "id": "85b40b8a",
   "metadata": {},
   "outputs": [],
   "source": [
    "import pandas as pd"
   ]
  },
  {
   "cell_type": "code",
   "execution_count": 682,
   "id": "45eddbd5",
   "metadata": {},
   "outputs": [],
   "source": [
    "import matplotlib.pyplot as plt"
   ]
  },
  {
   "cell_type": "code",
   "execution_count": 683,
   "id": "4e567aaa",
   "metadata": {},
   "outputs": [],
   "source": [
    "import seaborn as sns"
   ]
  },
  {
   "cell_type": "code",
   "execution_count": 684,
   "id": "afc5c2c5",
   "metadata": {},
   "outputs": [],
   "source": [
    "df = pd.read_csv('iris.csv')"
   ]
  },
  {
   "cell_type": "code",
   "execution_count": 685,
   "id": "24e3e62e",
   "metadata": {},
   "outputs": [],
   "source": [
    "df2 = pd.read_csv('used_cars.csv')"
   ]
  },
  {
   "cell_type": "code",
   "execution_count": 686,
   "id": "8537df93",
   "metadata": {},
   "outputs": [
    {
     "data": {
      "text/plain": [
       "array([2017, 2016, 2019, 2015, 2014, 2018, 2013, 2020, 2004, 2009, 2012,\n",
       "       2010, 2007, 2011, 2008, 2003, 2005, 2002, 2006, 1998, 1997, 2001,\n",
       "       2000, 1999, 1996, 2060, 1970], dtype=int64)"
      ]
     },
     "execution_count": 686,
     "metadata": {},
     "output_type": "execute_result"
    }
   ],
   "source": [
    "df2.year.unique()"
   ]
  },
  {
   "cell_type": "markdown",
   "id": "1fa157dd",
   "metadata": {},
   "source": [
    "## Question 1: (10 pts)\n",
    "#### Using the iris.csv data set, recreate the following plot using Seaborn and Matplotlib. This data set contains measurements of the petals and sepals of flowers in the Iris family. The plot shows the petal length (x-ais) compared to the petal width (y-axis) for all the flowers in the data set. Each point in the scatterplot is colour coded to the species, as given in the legend."
   ]
  },
  {
   "cell_type": "code",
   "execution_count": 687,
   "id": "99a198b4",
   "metadata": {},
   "outputs": [
    {
     "data": {
      "text/plain": [
       "<AxesSubplot:xlabel='petal_length', ylabel='petal_width'>"
      ]
     },
     "execution_count": 687,
     "metadata": {},
     "output_type": "execute_result"
    },
    {
     "data": {
      "image/png": "[encoded data removed]",
      "text/plain": [
       "<Figure size 432x288 with 1 Axes>"
      ]
     },
     "metadata": {},
     "output_type": "display_data"
    }
   ],
   "source": [
    "sns.scatterplot(data=df, x=\"petal_length\", y=\"petal_width\", hue=\"species\")\n"
   ]
  },
  {
   "cell_type": "markdown",
   "id": "d13d715e",
   "metadata": {},
   "source": [
    "### Question 2: (15 pts)\n",
    "#### The following bar plot shows the average petal area for the three iris species in the iris.csv data set. The black lines on each bar represent the 95% confidence interval of the average. Re-create the plot using Seaborn’s barplot() function, making sure to include the uncertainty, bar colours, and plot labels."
   ]
  },
  {
   "cell_type": "code",
   "execution_count": 688,
   "id": "d8d7cc33",
   "metadata": {},
   "outputs": [
    {
     "data": {
      "text/html": [
       "<div>\n",
       "<style scoped>\n",
       "    .dataframe tbody tr th:only-of-type {\n",
       "        vertical-align: middle;\n",
       "    }\n",
       "\n",
       "    .dataframe tbody tr th {\n",
       "        vertical-align: top;\n",
       "    }\n",
       "\n",
       "    .dataframe thead th {\n",
       "        text-align: right;\n",
       "    }\n",
       "</style>\n",
       "<table border=\"1\" class=\"dataframe\">\n",
       "  <thead>\n",
       "    <tr style=\"text-align: right;\">\n",
       "      <th></th>\n",
       "      <th>sepal_length</th>\n",
       "      <th>sepal_width</th>\n",
       "      <th>petal_length</th>\n",
       "      <th>petal_width</th>\n",
       "      <th>species</th>\n",
       "      <th>petal_area</th>\n",
       "    </tr>\n",
       "  </thead>\n",
       "  <tbody>\n",
       "    <tr>\n",
       "      <th>0</th>\n",
       "      <td>5.1</td>\n",
       "      <td>3.5</td>\n",
       "      <td>1.4</td>\n",
       "      <td>0.2</td>\n",
       "      <td>setosa</td>\n",
       "      <td>0.28</td>\n",
       "    </tr>\n",
       "    <tr>\n",
       "      <th>1</th>\n",
       "      <td>4.9</td>\n",
       "      <td>3.0</td>\n",
       "      <td>1.4</td>\n",
       "      <td>0.2</td>\n",
       "      <td>setosa</td>\n",
       "      <td>0.28</td>\n",
       "    </tr>\n",
       "    <tr>\n",
       "      <th>2</th>\n",
       "      <td>4.7</td>\n",
       "      <td>3.2</td>\n",
       "      <td>1.3</td>\n",
       "      <td>0.2</td>\n",
       "      <td>setosa</td>\n",
       "      <td>0.26</td>\n",
       "    </tr>\n",
       "    <tr>\n",
       "      <th>3</th>\n",
       "      <td>4.6</td>\n",
       "      <td>3.1</td>\n",
       "      <td>1.5</td>\n",
       "      <td>0.2</td>\n",
       "      <td>setosa</td>\n",
       "      <td>0.30</td>\n",
       "    </tr>\n",
       "    <tr>\n",
       "      <th>4</th>\n",
       "      <td>5.0</td>\n",
       "      <td>3.6</td>\n",
       "      <td>1.4</td>\n",
       "      <td>0.2</td>\n",
       "      <td>setosa</td>\n",
       "      <td>0.28</td>\n",
       "    </tr>\n",
       "    <tr>\n",
       "      <th>...</th>\n",
       "      <td>...</td>\n",
       "      <td>...</td>\n",
       "      <td>...</td>\n",
       "      <td>...</td>\n",
       "      <td>...</td>\n",
       "      <td>...</td>\n",
       "    </tr>\n",
       "    <tr>\n",
       "      <th>145</th>\n",
       "      <td>6.7</td>\n",
       "      <td>3.0</td>\n",
       "      <td>5.2</td>\n",
       "      <td>2.3</td>\n",
       "      <td>virginica</td>\n",
       "      <td>11.96</td>\n",
       "    </tr>\n",
       "    <tr>\n",
       "      <th>146</th>\n",
       "      <td>6.3</td>\n",
       "      <td>2.5</td>\n",
       "      <td>5.0</td>\n",
       "      <td>1.9</td>\n",
       "      <td>virginica</td>\n",
       "      <td>9.50</td>\n",
       "    </tr>\n",
       "    <tr>\n",
       "      <th>147</th>\n",
       "      <td>6.5</td>\n",
       "      <td>3.0</td>\n",
       "      <td>5.2</td>\n",
       "      <td>2.0</td>\n",
       "      <td>virginica</td>\n",
       "      <td>10.40</td>\n",
       "    </tr>\n",
       "    <tr>\n",
       "      <th>148</th>\n",
       "      <td>6.2</td>\n",
       "      <td>3.4</td>\n",
       "      <td>5.4</td>\n",
       "      <td>2.3</td>\n",
       "      <td>virginica</td>\n",
       "      <td>12.42</td>\n",
       "    </tr>\n",
       "    <tr>\n",
       "      <th>149</th>\n",
       "      <td>5.9</td>\n",
       "      <td>3.0</td>\n",
       "      <td>5.1</td>\n",
       "      <td>1.8</td>\n",
       "      <td>virginica</td>\n",
       "      <td>9.18</td>\n",
       "    </tr>\n",
       "  </tbody>\n",
       "</table>\n",
       "<p>150 rows × 6 columns</p>\n",
       "</div>"
      ],
      "text/plain": [
       "     sepal_length  sepal_width  petal_length  petal_width    species  \\\n",
       "0             5.1          3.5           1.4          0.2     setosa   \n",
       "1             4.9          3.0           1.4          0.2     setosa   \n",
       "2             4.7          3.2           1.3          0.2     setosa   \n",
       "3             4.6          3.1           1.5          0.2     setosa   \n",
       "4             5.0          3.6           1.4          0.2     setosa   \n",
       "..            ...          ...           ...          ...        ...   \n",
       "145           6.7          3.0           5.2          2.3  virginica   \n",
       "146           6.3          2.5           5.0          1.9  virginica   \n",
       "147           6.5          3.0           5.2          2.0  virginica   \n",
       "148           6.2          3.4           5.4          2.3  virginica   \n",
       "149           5.9          3.0           5.1          1.8  virginica   \n",
       "\n",
       "     petal_area  \n",
       "0          0.28  \n",
       "1          0.28  \n",
       "2          0.26  \n",
       "3          0.30  \n",
       "4          0.28  \n",
       "..          ...  \n",
       "145       11.96  \n",
       "146        9.50  \n",
       "147       10.40  \n",
       "148       12.42  \n",
       "149        9.18  \n",
       "\n",
       "[150 rows x 6 columns]"
      ]
     },
     "execution_count": 688,
     "metadata": {},
     "output_type": "execute_result"
    }
   ],
   "source": [
    "df['petal_area'] = df.petal_length * df.petal_width\n",
    "df"
   ]
  },
  {
   "cell_type": "code",
   "execution_count": 689,
   "id": "689e44b9",
   "metadata": {},
   "outputs": [
    {
     "data": {
      "image/png": "[encoded data removed]",
      "text/plain": [
       "<Figure size 576x432 with 1 Axes>"
      ]
     },
     "metadata": {},
     "output_type": "display_data"
    }
   ],
   "source": [
    "fig, ax = plt.subplots(figsize=(8,6))\n",
    "ax.set_title('Average Petal Area for Iris Flowers')\n",
    "\n",
    "sns.set_theme(style=\"white\")\n",
    "ax = sns.barplot(x=\"petal_area\", y=\"species\", data=df)"
   ]
  },
  {
   "cell_type": "code",
   "execution_count": 690,
   "id": "5b0f9cd6",
   "metadata": {},
   "outputs": [
    {
     "data": {
      "text/html": [
       "<div>\n",
       "<style scoped>\n",
       "    .dataframe tbody tr th:only-of-type {\n",
       "        vertical-align: middle;\n",
       "    }\n",
       "\n",
       "    .dataframe tbody tr th {\n",
       "        vertical-align: top;\n",
       "    }\n",
       "\n",
       "    .dataframe thead th {\n",
       "        text-align: right;\n",
       "    }\n",
       "</style>\n",
       "<table border=\"1\" class=\"dataframe\">\n",
       "  <thead>\n",
       "    <tr style=\"text-align: right;\">\n",
       "      <th></th>\n",
       "      <th>model</th>\n",
       "      <th>year</th>\n",
       "      <th>price</th>\n",
       "      <th>transmission</th>\n",
       "      <th>mileage</th>\n",
       "      <th>fuelType</th>\n",
       "      <th>tax</th>\n",
       "      <th>mpg</th>\n",
       "      <th>engineSize</th>\n",
       "      <th>brand</th>\n",
       "    </tr>\n",
       "  </thead>\n",
       "  <tbody>\n",
       "    <tr>\n",
       "      <th>0</th>\n",
       "      <td>A1</td>\n",
       "      <td>2017</td>\n",
       "      <td>12500</td>\n",
       "      <td>Manual</td>\n",
       "      <td>15735</td>\n",
       "      <td>Petrol</td>\n",
       "      <td>150.0</td>\n",
       "      <td>55.4</td>\n",
       "      <td>1.4</td>\n",
       "      <td>Audi</td>\n",
       "    </tr>\n",
       "    <tr>\n",
       "      <th>1</th>\n",
       "      <td>A6</td>\n",
       "      <td>2016</td>\n",
       "      <td>16500</td>\n",
       "      <td>Automatic</td>\n",
       "      <td>36203</td>\n",
       "      <td>Diesel</td>\n",
       "      <td>20.0</td>\n",
       "      <td>64.2</td>\n",
       "      <td>2.0</td>\n",
       "      <td>Audi</td>\n",
       "    </tr>\n",
       "    <tr>\n",
       "      <th>2</th>\n",
       "      <td>A1</td>\n",
       "      <td>2016</td>\n",
       "      <td>11000</td>\n",
       "      <td>Manual</td>\n",
       "      <td>29946</td>\n",
       "      <td>Petrol</td>\n",
       "      <td>30.0</td>\n",
       "      <td>55.4</td>\n",
       "      <td>1.4</td>\n",
       "      <td>Audi</td>\n",
       "    </tr>\n",
       "    <tr>\n",
       "      <th>3</th>\n",
       "      <td>A4</td>\n",
       "      <td>2017</td>\n",
       "      <td>16800</td>\n",
       "      <td>Automatic</td>\n",
       "      <td>25952</td>\n",
       "      <td>Diesel</td>\n",
       "      <td>145.0</td>\n",
       "      <td>67.3</td>\n",
       "      <td>2.0</td>\n",
       "      <td>Audi</td>\n",
       "    </tr>\n",
       "    <tr>\n",
       "      <th>4</th>\n",
       "      <td>A3</td>\n",
       "      <td>2019</td>\n",
       "      <td>17300</td>\n",
       "      <td>Manual</td>\n",
       "      <td>1998</td>\n",
       "      <td>Petrol</td>\n",
       "      <td>145.0</td>\n",
       "      <td>49.6</td>\n",
       "      <td>1.0</td>\n",
       "      <td>Audi</td>\n",
       "    </tr>\n",
       "    <tr>\n",
       "      <th>...</th>\n",
       "      <td>...</td>\n",
       "      <td>...</td>\n",
       "      <td>...</td>\n",
       "      <td>...</td>\n",
       "      <td>...</td>\n",
       "      <td>...</td>\n",
       "      <td>...</td>\n",
       "      <td>...</td>\n",
       "      <td>...</td>\n",
       "      <td>...</td>\n",
       "    </tr>\n",
       "    <tr>\n",
       "      <th>99182</th>\n",
       "      <td>Eos</td>\n",
       "      <td>2012</td>\n",
       "      <td>5990</td>\n",
       "      <td>Manual</td>\n",
       "      <td>74000</td>\n",
       "      <td>Diesel</td>\n",
       "      <td>125.0</td>\n",
       "      <td>58.9</td>\n",
       "      <td>2.0</td>\n",
       "      <td>Volkswagen</td>\n",
       "    </tr>\n",
       "    <tr>\n",
       "      <th>99183</th>\n",
       "      <td>Fox</td>\n",
       "      <td>2008</td>\n",
       "      <td>1799</td>\n",
       "      <td>Manual</td>\n",
       "      <td>88102</td>\n",
       "      <td>Petrol</td>\n",
       "      <td>145.0</td>\n",
       "      <td>46.3</td>\n",
       "      <td>1.2</td>\n",
       "      <td>Volkswagen</td>\n",
       "    </tr>\n",
       "    <tr>\n",
       "      <th>99184</th>\n",
       "      <td>Fox</td>\n",
       "      <td>2009</td>\n",
       "      <td>1590</td>\n",
       "      <td>Manual</td>\n",
       "      <td>70000</td>\n",
       "      <td>Petrol</td>\n",
       "      <td>200.0</td>\n",
       "      <td>42.0</td>\n",
       "      <td>1.4</td>\n",
       "      <td>Volkswagen</td>\n",
       "    </tr>\n",
       "    <tr>\n",
       "      <th>99185</th>\n",
       "      <td>Fox</td>\n",
       "      <td>2006</td>\n",
       "      <td>1250</td>\n",
       "      <td>Manual</td>\n",
       "      <td>82704</td>\n",
       "      <td>Petrol</td>\n",
       "      <td>150.0</td>\n",
       "      <td>46.3</td>\n",
       "      <td>1.2</td>\n",
       "      <td>Volkswagen</td>\n",
       "    </tr>\n",
       "    <tr>\n",
       "      <th>99186</th>\n",
       "      <td>Fox</td>\n",
       "      <td>2007</td>\n",
       "      <td>2295</td>\n",
       "      <td>Manual</td>\n",
       "      <td>74000</td>\n",
       "      <td>Petrol</td>\n",
       "      <td>145.0</td>\n",
       "      <td>46.3</td>\n",
       "      <td>1.2</td>\n",
       "      <td>Volkswagen</td>\n",
       "    </tr>\n",
       "  </tbody>\n",
       "</table>\n",
       "<p>99187 rows × 10 columns</p>\n",
       "</div>"
      ],
      "text/plain": [
       "      model  year  price transmission  mileage fuelType    tax   mpg  \\\n",
       "0        A1  2017  12500       Manual    15735   Petrol  150.0  55.4   \n",
       "1        A6  2016  16500    Automatic    36203   Diesel   20.0  64.2   \n",
       "2        A1  2016  11000       Manual    29946   Petrol   30.0  55.4   \n",
       "3        A4  2017  16800    Automatic    25952   Diesel  145.0  67.3   \n",
       "4        A3  2019  17300       Manual     1998   Petrol  145.0  49.6   \n",
       "...     ...   ...    ...          ...      ...      ...    ...   ...   \n",
       "99182   Eos  2012   5990       Manual    74000   Diesel  125.0  58.9   \n",
       "99183   Fox  2008   1799       Manual    88102   Petrol  145.0  46.3   \n",
       "99184   Fox  2009   1590       Manual    70000   Petrol  200.0  42.0   \n",
       "99185   Fox  2006   1250       Manual    82704   Petrol  150.0  46.3   \n",
       "99186   Fox  2007   2295       Manual    74000   Petrol  145.0  46.3   \n",
       "\n",
       "       engineSize       brand  \n",
       "0             1.4        Audi  \n",
       "1             2.0        Audi  \n",
       "2             1.4        Audi  \n",
       "3             2.0        Audi  \n",
       "4             1.0        Audi  \n",
       "...           ...         ...  \n",
       "99182         2.0  Volkswagen  \n",
       "99183         1.2  Volkswagen  \n",
       "99184         1.4  Volkswagen  \n",
       "99185         1.2  Volkswagen  \n",
       "99186         1.2  Volkswagen  \n",
       "\n",
       "[99187 rows x 10 columns]"
      ]
     },
     "execution_count": 690,
     "metadata": {},
     "output_type": "execute_result"
    }
   ],
   "source": [
    "df2"
   ]
  },
  {
   "cell_type": "markdown",
   "id": "7321dce2",
   "metadata": {},
   "source": [
    "### Question 3: (10 pts)\n",
    "#### The following violin plot shows the distribution of used car prices from the used_cars.csv data set for the 15-year period from 2005 to 2019. Each violin has vertical lines showing the median and inter-quartile range."
   ]
  },
  {
   "cell_type": "code",
   "execution_count": 691,
   "id": "63ded6dc",
   "metadata": {},
   "outputs": [
    {
     "data": {
      "text/html": [
       "<div>\n",
       "<style scoped>\n",
       "    .dataframe tbody tr th:only-of-type {\n",
       "        vertical-align: middle;\n",
       "    }\n",
       "\n",
       "    .dataframe tbody tr th {\n",
       "        vertical-align: top;\n",
       "    }\n",
       "\n",
       "    .dataframe thead th {\n",
       "        text-align: right;\n",
       "    }\n",
       "</style>\n",
       "<table border=\"1\" class=\"dataframe\">\n",
       "  <thead>\n",
       "    <tr style=\"text-align: right;\">\n",
       "      <th></th>\n",
       "      <th>model</th>\n",
       "      <th>year</th>\n",
       "      <th>price</th>\n",
       "      <th>transmission</th>\n",
       "      <th>mileage</th>\n",
       "      <th>fuelType</th>\n",
       "      <th>tax</th>\n",
       "      <th>mpg</th>\n",
       "      <th>engineSize</th>\n",
       "      <th>brand</th>\n",
       "    </tr>\n",
       "  </thead>\n",
       "  <tbody>\n",
       "    <tr>\n",
       "      <th>0</th>\n",
       "      <td>A1</td>\n",
       "      <td>2017</td>\n",
       "      <td>12500</td>\n",
       "      <td>Manual</td>\n",
       "      <td>15735</td>\n",
       "      <td>Petrol</td>\n",
       "      <td>150.0</td>\n",
       "      <td>55.4</td>\n",
       "      <td>1.4</td>\n",
       "      <td>Audi</td>\n",
       "    </tr>\n",
       "    <tr>\n",
       "      <th>1</th>\n",
       "      <td>A6</td>\n",
       "      <td>2016</td>\n",
       "      <td>16500</td>\n",
       "      <td>Automatic</td>\n",
       "      <td>36203</td>\n",
       "      <td>Diesel</td>\n",
       "      <td>20.0</td>\n",
       "      <td>64.2</td>\n",
       "      <td>2.0</td>\n",
       "      <td>Audi</td>\n",
       "    </tr>\n",
       "    <tr>\n",
       "      <th>2</th>\n",
       "      <td>A1</td>\n",
       "      <td>2016</td>\n",
       "      <td>11000</td>\n",
       "      <td>Manual</td>\n",
       "      <td>29946</td>\n",
       "      <td>Petrol</td>\n",
       "      <td>30.0</td>\n",
       "      <td>55.4</td>\n",
       "      <td>1.4</td>\n",
       "      <td>Audi</td>\n",
       "    </tr>\n",
       "    <tr>\n",
       "      <th>3</th>\n",
       "      <td>A4</td>\n",
       "      <td>2017</td>\n",
       "      <td>16800</td>\n",
       "      <td>Automatic</td>\n",
       "      <td>25952</td>\n",
       "      <td>Diesel</td>\n",
       "      <td>145.0</td>\n",
       "      <td>67.3</td>\n",
       "      <td>2.0</td>\n",
       "      <td>Audi</td>\n",
       "    </tr>\n",
       "    <tr>\n",
       "      <th>4</th>\n",
       "      <td>A3</td>\n",
       "      <td>2019</td>\n",
       "      <td>17300</td>\n",
       "      <td>Manual</td>\n",
       "      <td>1998</td>\n",
       "      <td>Petrol</td>\n",
       "      <td>145.0</td>\n",
       "      <td>49.6</td>\n",
       "      <td>1.0</td>\n",
       "      <td>Audi</td>\n",
       "    </tr>\n",
       "    <tr>\n",
       "      <th>...</th>\n",
       "      <td>...</td>\n",
       "      <td>...</td>\n",
       "      <td>...</td>\n",
       "      <td>...</td>\n",
       "      <td>...</td>\n",
       "      <td>...</td>\n",
       "      <td>...</td>\n",
       "      <td>...</td>\n",
       "      <td>...</td>\n",
       "      <td>...</td>\n",
       "    </tr>\n",
       "    <tr>\n",
       "      <th>99182</th>\n",
       "      <td>Eos</td>\n",
       "      <td>2012</td>\n",
       "      <td>5990</td>\n",
       "      <td>Manual</td>\n",
       "      <td>74000</td>\n",
       "      <td>Diesel</td>\n",
       "      <td>125.0</td>\n",
       "      <td>58.9</td>\n",
       "      <td>2.0</td>\n",
       "      <td>Volkswagen</td>\n",
       "    </tr>\n",
       "    <tr>\n",
       "      <th>99183</th>\n",
       "      <td>Fox</td>\n",
       "      <td>2008</td>\n",
       "      <td>1799</td>\n",
       "      <td>Manual</td>\n",
       "      <td>88102</td>\n",
       "      <td>Petrol</td>\n",
       "      <td>145.0</td>\n",
       "      <td>46.3</td>\n",
       "      <td>1.2</td>\n",
       "      <td>Volkswagen</td>\n",
       "    </tr>\n",
       "    <tr>\n",
       "      <th>99184</th>\n",
       "      <td>Fox</td>\n",
       "      <td>2009</td>\n",
       "      <td>1590</td>\n",
       "      <td>Manual</td>\n",
       "      <td>70000</td>\n",
       "      <td>Petrol</td>\n",
       "      <td>200.0</td>\n",
       "      <td>42.0</td>\n",
       "      <td>1.4</td>\n",
       "      <td>Volkswagen</td>\n",
       "    </tr>\n",
       "    <tr>\n",
       "      <th>99185</th>\n",
       "      <td>Fox</td>\n",
       "      <td>2006</td>\n",
       "      <td>1250</td>\n",
       "      <td>Manual</td>\n",
       "      <td>82704</td>\n",
       "      <td>Petrol</td>\n",
       "      <td>150.0</td>\n",
       "      <td>46.3</td>\n",
       "      <td>1.2</td>\n",
       "      <td>Volkswagen</td>\n",
       "    </tr>\n",
       "    <tr>\n",
       "      <th>99186</th>\n",
       "      <td>Fox</td>\n",
       "      <td>2007</td>\n",
       "      <td>2295</td>\n",
       "      <td>Manual</td>\n",
       "      <td>74000</td>\n",
       "      <td>Petrol</td>\n",
       "      <td>145.0</td>\n",
       "      <td>46.3</td>\n",
       "      <td>1.2</td>\n",
       "      <td>Volkswagen</td>\n",
       "    </tr>\n",
       "  </tbody>\n",
       "</table>\n",
       "<p>94553 rows × 10 columns</p>\n",
       "</div>"
      ],
      "text/plain": [
       "      model  year  price transmission  mileage fuelType    tax   mpg  \\\n",
       "0        A1  2017  12500       Manual    15735   Petrol  150.0  55.4   \n",
       "1        A6  2016  16500    Automatic    36203   Diesel   20.0  64.2   \n",
       "2        A1  2016  11000       Manual    29946   Petrol   30.0  55.4   \n",
       "3        A4  2017  16800    Automatic    25952   Diesel  145.0  67.3   \n",
       "4        A3  2019  17300       Manual     1998   Petrol  145.0  49.6   \n",
       "...     ...   ...    ...          ...      ...      ...    ...   ...   \n",
       "99182   Eos  2012   5990       Manual    74000   Diesel  125.0  58.9   \n",
       "99183   Fox  2008   1799       Manual    88102   Petrol  145.0  46.3   \n",
       "99184   Fox  2009   1590       Manual    70000   Petrol  200.0  42.0   \n",
       "99185   Fox  2006   1250       Manual    82704   Petrol  150.0  46.3   \n",
       "99186   Fox  2007   2295       Manual    74000   Petrol  145.0  46.3   \n",
       "\n",
       "       engineSize       brand  \n",
       "0             1.4        Audi  \n",
       "1             2.0        Audi  \n",
       "2             1.4        Audi  \n",
       "3             2.0        Audi  \n",
       "4             1.0        Audi  \n",
       "...           ...         ...  \n",
       "99182         2.0  Volkswagen  \n",
       "99183         1.2  Volkswagen  \n",
       "99184         1.4  Volkswagen  \n",
       "99185         1.2  Volkswagen  \n",
       "99186         1.2  Volkswagen  \n",
       "\n",
       "[94553 rows x 10 columns]"
      ]
     },
     "execution_count": 691,
     "metadata": {},
     "output_type": "execute_result"
    }
   ],
   "source": [
    "df2 = df2[(df2['year']> 2004) & (df2['year']<2020)] \n",
    "\n",
    "df2\n"
   ]
  },
  {
   "cell_type": "code",
   "execution_count": 692,
   "id": "9acae363",
   "metadata": {},
   "outputs": [
    {
     "name": "stderr",
     "output_type": "stream",
     "text": [
      "<ipython-input-692-00f937ff00ba>:4: UserWarning: FixedFormatter should only be used together with FixedLocator\n",
      "  ax2.set_xticklabels(['0','10K','20K','30K','40K','50K','60K'])\n"
     ]
    },
    {
     "data": {
      "image/png": "[encoded data removed]",
      "text/plain": [
       "<Figure size 720x432 with 1 Axes>"
      ]
     },
     "metadata": {},
     "output_type": "display_data"
    }
   ],
   "source": [
    "fig1, ax2 = plt.subplots(figsize=(10,6))\n",
    "ax2.set_title('Average Petal Area for Iris Flowers')\n",
    "ax2.set_xlim(0,60000)\n",
    "ax2.set_xticklabels(['0','10K','20K','30K','40K','50K','60K'])\n",
    "ax2 = sns.violinplot(x=\"price\", y=\"year\", data=df2, orient='h', bw= 0.09, inner=\"quartile\",scale='width')"
   ]
  },
  {
   "cell_type": "markdown",
   "id": "09759490",
   "metadata": {},
   "source": [
    "### Question 4: (25 pts)\n",
    "#### The following plot shows the average price of used cars from the used_cars.csv data set for the 20-year period from 2000 to 2019. The average prices are calculated separately for manual (orange) and automatic (blue) transmission. The legend is a bar plot that shows the number of cars that were sold during this period."
   ]
  },
  {
   "cell_type": "code",
   "execution_count": 693,
   "id": "25a18f05",
   "metadata": {},
   "outputs": [
    {
     "data": {
      "text/plain": [
       "array([2017, 2016, 2019, 2015, 2014, 2018, 2013, 2020, 2004, 2009, 2012,\n",
       "       2010, 2007, 2011, 2008, 2003, 2005, 2002, 2006, 1998, 1997, 2001,\n",
       "       2000, 1999, 1996, 2060, 1970], dtype=int64)"
      ]
     },
     "execution_count": 693,
     "metadata": {},
     "output_type": "execute_result"
    }
   ],
   "source": [
    "df2 = pd.read_csv('used_cars.csv')\n",
    "df2.year.unique()\n"
   ]
  },
  {
   "cell_type": "code",
   "execution_count": 694,
   "id": "0adddcb5",
   "metadata": {},
   "outputs": [
    {
     "data": {
      "text/html": [
       "<div>\n",
       "<style scoped>\n",
       "    .dataframe tbody tr th:only-of-type {\n",
       "        vertical-align: middle;\n",
       "    }\n",
       "\n",
       "    .dataframe tbody tr th {\n",
       "        vertical-align: top;\n",
       "    }\n",
       "\n",
       "    .dataframe thead th {\n",
       "        text-align: right;\n",
       "    }\n",
       "</style>\n",
       "<table border=\"1\" class=\"dataframe\">\n",
       "  <thead>\n",
       "    <tr style=\"text-align: right;\">\n",
       "      <th></th>\n",
       "      <th>transmission</th>\n",
       "      <th>model</th>\n",
       "    </tr>\n",
       "  </thead>\n",
       "  <tbody>\n",
       "    <tr>\n",
       "      <th>0</th>\n",
       "      <td>Automatic</td>\n",
       "      <td>19351</td>\n",
       "    </tr>\n",
       "    <tr>\n",
       "      <th>1</th>\n",
       "      <td>Manual</td>\n",
       "      <td>54776</td>\n",
       "    </tr>\n",
       "  </tbody>\n",
       "</table>\n",
       "</div>"
      ],
      "text/plain": [
       "  transmission  model\n",
       "0    Automatic  19351\n",
       "1       Manual  54776"
      ]
     },
     "execution_count": 694,
     "metadata": {},
     "output_type": "execute_result"
    }
   ],
   "source": [
    "df2=df2[(df2['transmission']=='Manual') | (df2['transmission']=='Automatic') ]\n",
    "\n",
    "df2=df2[(df2['year']>= 1999) &(df2['year']< 2020)]\n",
    "jj = df2.groupby(['transmission']).count()['model']\n",
    "jj=jj.reset_index()\n",
    "jj"
   ]
  },
  {
   "cell_type": "code",
   "execution_count": 695,
   "id": "2670bbc8",
   "metadata": {},
   "outputs": [
    {
     "data": {
      "text/plain": [
       "<AxesSubplot:xlabel='model', ylabel='transmission'>"
      ]
     },
     "execution_count": 695,
     "metadata": {},
     "output_type": "execute_result"
    },
    {
     "data": {
      "image/png": "[encoded data removed]",
      "text/plain": [
       "<Figure size 432x288 with 1 Axes>"
      ]
     },
     "metadata": {},
     "output_type": "display_data"
    }
   ],
   "source": [
    "\n",
    "\n",
    "sns.barplot(x='model', y='transmission' , data=jj, palette=[\"blue\",\"orange\"])\n",
    "\n",
    "\n"
   ]
  },
  {
   "cell_type": "code",
   "execution_count": 696,
   "id": "ae4b1ddd",
   "metadata": {},
   "outputs": [
    {
     "name": "stderr",
     "output_type": "stream",
     "text": [
      "<ipython-input-696-b73584602a85>:3: UserWarning: FixedFormatter should only be used together with FixedLocator\n",
      "  ax.set_yticklabels(['0','5000','10000','15000','20000','25000','30000','35000'])\n"
     ]
    },
    {
     "data": {
      "text/plain": [
       "[]"
      ]
     },
     "execution_count": 696,
     "metadata": {},
     "output_type": "execute_result"
    },
    {
     "data": {
      "image/png": "[encoded data removed]",
      "text/plain": [
       "<Figure size 648x504 with 2 Axes>"
      ]
     },
     "metadata": {},
     "output_type": "display_data"
    }
   ],
   "source": [
    "fig, ax = plt.subplots(figsize=(9,7))\n",
    "\n",
    "ax.set_yticklabels(['0','5000','10000','15000','20000','25000','30000','35000'])\n",
    "ax.set_xticks([2000,2003,2006,2009,2012,2015,2018])\n",
    "ax.set_xlim(2000,2019)\n",
    "ax.set_ylim(0,35000)\n",
    "\n",
    "plt.ylabel('Average Price')\n",
    "ax.set_title('Average Used Car Prices')\n",
    "\n",
    "\n",
    "ax=sns.lineplot(x='year', y='price' , data=df2, hue='transmission', palette=[\"orange\",\"blue\"])\n",
    "ax.get_legend().remove()\n",
    "\n",
    "axx = fig.add_axes([0.26,0.74,0.15,0.1])\n",
    "\n",
    "axx=sns.barplot(x='model', y='transmission' , data=jj, palette=[\"blue\",\"orange\"])\n",
    "\n",
    "\n",
    "sns.despine(left=True, bottom=True,ax=axx)\n",
    "axx.set_xlabel(None)\n",
    "axx.set_ylabel(None)\n",
    "axx.set_xticks([])\n",
    "\n"
   ]
  },
  {
   "cell_type": "code",
   "execution_count": null,
   "id": "e87bd2c1",
   "metadata": {},
   "outputs": [],
   "source": []
  }
 ],
 "metadata": {
  "kernelspec": {
   "display_name": "Python 3",
   "language": "python",
   "name": "python3"
  },
  "language_info": {
   "codemirror_mode": {
    "name": "ipython",
    "version": 3
   },
   "file_extension": ".py",
   "mimetype": "text/x-python",
   "name": "python",
   "nbconvert_exporter": "python",
   "pygments_lexer": "ipython3",
   "version": "3.8.8"
  }
 },
 "nbformat": 4,
 "nbformat_minor": 5
}
