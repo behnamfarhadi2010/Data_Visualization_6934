{
 "cells": [
  {
   "cell_type": "markdown",
   "id": "2b9a7cd8",
   "metadata": {},
   "source": [
    "## BEHNAM FARHADI\n",
    "201994394\n",
    "\n",
    "# 29 SEP 2021\n",
    "\n",
    "I did this exercise indivisually"
   ]
  },
  {
   "cell_type": "code",
   "execution_count": null,
   "id": "688065ff",
   "metadata": {},
   "outputs": [],
   "source": [
    "import pandas as pd\n",
    "import matplotlib.pyplot as plt"
   ]
  },
  {
   "cell_type": "code",
   "execution_count": 174,
   "id": "c3801263",
   "metadata": {},
   "outputs": [],
   "source": [
    "df = pd.read_csv('students.csv')"
   ]
  },
  {
   "cell_type": "code",
   "execution_count": 175,
   "id": "33dd9f0a",
   "metadata": {},
   "outputs": [
    {
     "data": {
      "text/html": [
       "<div>\n",
       "<style scoped>\n",
       "    .dataframe tbody tr th:only-of-type {\n",
       "        vertical-align: middle;\n",
       "    }\n",
       "\n",
       "    .dataframe tbody tr th {\n",
       "        vertical-align: top;\n",
       "    }\n",
       "\n",
       "    .dataframe thead th {\n",
       "        text-align: right;\n",
       "    }\n",
       "</style>\n",
       "<table border=\"1\" class=\"dataframe\">\n",
       "  <thead>\n",
       "    <tr style=\"text-align: right;\">\n",
       "      <th></th>\n",
       "      <th>REF_DATE</th>\n",
       "      <th>GEO</th>\n",
       "      <th>Institution type</th>\n",
       "      <th>Registration status</th>\n",
       "      <th>International Standard Classification of Education (ISCED)</th>\n",
       "      <th>Field of study</th>\n",
       "      <th>Gender</th>\n",
       "      <th>Status of student in Canada</th>\n",
       "      <th>VALUE</th>\n",
       "    </tr>\n",
       "  </thead>\n",
       "  <tbody>\n",
       "    <tr>\n",
       "      <th>0</th>\n",
       "      <td>2018/2019</td>\n",
       "      <td>Newfoundland and Labrador</td>\n",
       "      <td>University</td>\n",
       "      <td>Full-time student</td>\n",
       "      <td>Bachelor's or equivalent</td>\n",
       "      <td>Education [1]</td>\n",
       "      <td>Male gender</td>\n",
       "      <td>Canadian students</td>\n",
       "      <td>129</td>\n",
       "    </tr>\n",
       "    <tr>\n",
       "      <th>1</th>\n",
       "      <td>2018/2019</td>\n",
       "      <td>Newfoundland and Labrador</td>\n",
       "      <td>University</td>\n",
       "      <td>Full-time student</td>\n",
       "      <td>Bachelor's or equivalent</td>\n",
       "      <td>Education [1]</td>\n",
       "      <td>Male gender</td>\n",
       "      <td>International students</td>\n",
       "      <td>3</td>\n",
       "    </tr>\n",
       "    <tr>\n",
       "      <th>2</th>\n",
       "      <td>2018/2019</td>\n",
       "      <td>Newfoundland and Labrador</td>\n",
       "      <td>University</td>\n",
       "      <td>Full-time student</td>\n",
       "      <td>Bachelor's or equivalent</td>\n",
       "      <td>Education [1]</td>\n",
       "      <td>Female gender</td>\n",
       "      <td>Canadian students</td>\n",
       "      <td>243</td>\n",
       "    </tr>\n",
       "    <tr>\n",
       "      <th>3</th>\n",
       "      <td>2018/2019</td>\n",
       "      <td>Newfoundland and Labrador</td>\n",
       "      <td>University</td>\n",
       "      <td>Full-time student</td>\n",
       "      <td>Bachelor's or equivalent</td>\n",
       "      <td>Education [1]</td>\n",
       "      <td>Female gender</td>\n",
       "      <td>International students</td>\n",
       "      <td>3</td>\n",
       "    </tr>\n",
       "    <tr>\n",
       "      <th>4</th>\n",
       "      <td>2018/2019</td>\n",
       "      <td>Newfoundland and Labrador</td>\n",
       "      <td>University</td>\n",
       "      <td>Full-time student</td>\n",
       "      <td>Bachelor's or equivalent</td>\n",
       "      <td>Education [1]</td>\n",
       "      <td>Gender unknown</td>\n",
       "      <td>Canadian students</td>\n",
       "      <td>3</td>\n",
       "    </tr>\n",
       "  </tbody>\n",
       "</table>\n",
       "</div>"
      ],
      "text/plain": [
       "    REF_DATE                        GEO Institution type Registration status  \\\n",
       "0  2018/2019  Newfoundland and Labrador       University   Full-time student   \n",
       "1  2018/2019  Newfoundland and Labrador       University   Full-time student   \n",
       "2  2018/2019  Newfoundland and Labrador       University   Full-time student   \n",
       "3  2018/2019  Newfoundland and Labrador       University   Full-time student   \n",
       "4  2018/2019  Newfoundland and Labrador       University   Full-time student   \n",
       "\n",
       "  International Standard Classification of Education (ISCED) Field of study  \\\n",
       "0                           Bachelor's or equivalent          Education [1]   \n",
       "1                           Bachelor's or equivalent          Education [1]   \n",
       "2                           Bachelor's or equivalent          Education [1]   \n",
       "3                           Bachelor's or equivalent          Education [1]   \n",
       "4                           Bachelor's or equivalent          Education [1]   \n",
       "\n",
       "           Gender Status of student in Canada  VALUE  \n",
       "0     Male gender           Canadian students    129  \n",
       "1     Male gender      International students      3  \n",
       "2   Female gender           Canadian students    243  \n",
       "3   Female gender      International students      3  \n",
       "4  Gender unknown           Canadian students      3  "
      ]
     },
     "execution_count": 175,
     "metadata": {},
     "output_type": "execute_result"
    }
   ],
   "source": [
    "df.head()"
   ]
  },
  {
   "cell_type": "code",
   "execution_count": 176,
   "id": "2c0c205c",
   "metadata": {},
   "outputs": [],
   "source": [
    "di = pd.read_csv('iris.csv')"
   ]
  },
  {
   "cell_type": "code",
   "execution_count": 177,
   "id": "8aa72ffc",
   "metadata": {},
   "outputs": [
    {
     "data": {
      "text/html": [
       "<div>\n",
       "<style scoped>\n",
       "    .dataframe tbody tr th:only-of-type {\n",
       "        vertical-align: middle;\n",
       "    }\n",
       "\n",
       "    .dataframe tbody tr th {\n",
       "        vertical-align: top;\n",
       "    }\n",
       "\n",
       "    .dataframe thead th {\n",
       "        text-align: right;\n",
       "    }\n",
       "</style>\n",
       "<table border=\"1\" class=\"dataframe\">\n",
       "  <thead>\n",
       "    <tr style=\"text-align: right;\">\n",
       "      <th></th>\n",
       "      <th>sepal_length</th>\n",
       "      <th>sepal_width</th>\n",
       "      <th>petal_length</th>\n",
       "      <th>petal_width</th>\n",
       "      <th>species</th>\n",
       "    </tr>\n",
       "  </thead>\n",
       "  <tbody>\n",
       "    <tr>\n",
       "      <th>0</th>\n",
       "      <td>5.1</td>\n",
       "      <td>3.5</td>\n",
       "      <td>1.4</td>\n",
       "      <td>0.2</td>\n",
       "      <td>setosa</td>\n",
       "    </tr>\n",
       "    <tr>\n",
       "      <th>1</th>\n",
       "      <td>4.9</td>\n",
       "      <td>3.0</td>\n",
       "      <td>1.4</td>\n",
       "      <td>0.2</td>\n",
       "      <td>setosa</td>\n",
       "    </tr>\n",
       "    <tr>\n",
       "      <th>2</th>\n",
       "      <td>4.7</td>\n",
       "      <td>3.2</td>\n",
       "      <td>1.3</td>\n",
       "      <td>0.2</td>\n",
       "      <td>setosa</td>\n",
       "    </tr>\n",
       "    <tr>\n",
       "      <th>3</th>\n",
       "      <td>4.6</td>\n",
       "      <td>3.1</td>\n",
       "      <td>1.5</td>\n",
       "      <td>0.2</td>\n",
       "      <td>setosa</td>\n",
       "    </tr>\n",
       "    <tr>\n",
       "      <th>4</th>\n",
       "      <td>5.0</td>\n",
       "      <td>3.6</td>\n",
       "      <td>1.4</td>\n",
       "      <td>0.2</td>\n",
       "      <td>setosa</td>\n",
       "    </tr>\n",
       "    <tr>\n",
       "      <th>...</th>\n",
       "      <td>...</td>\n",
       "      <td>...</td>\n",
       "      <td>...</td>\n",
       "      <td>...</td>\n",
       "      <td>...</td>\n",
       "    </tr>\n",
       "    <tr>\n",
       "      <th>145</th>\n",
       "      <td>6.7</td>\n",
       "      <td>3.0</td>\n",
       "      <td>5.2</td>\n",
       "      <td>2.3</td>\n",
       "      <td>virginica</td>\n",
       "    </tr>\n",
       "    <tr>\n",
       "      <th>146</th>\n",
       "      <td>6.3</td>\n",
       "      <td>2.5</td>\n",
       "      <td>5.0</td>\n",
       "      <td>1.9</td>\n",
       "      <td>virginica</td>\n",
       "    </tr>\n",
       "    <tr>\n",
       "      <th>147</th>\n",
       "      <td>6.5</td>\n",
       "      <td>3.0</td>\n",
       "      <td>5.2</td>\n",
       "      <td>2.0</td>\n",
       "      <td>virginica</td>\n",
       "    </tr>\n",
       "    <tr>\n",
       "      <th>148</th>\n",
       "      <td>6.2</td>\n",
       "      <td>3.4</td>\n",
       "      <td>5.4</td>\n",
       "      <td>2.3</td>\n",
       "      <td>virginica</td>\n",
       "    </tr>\n",
       "    <tr>\n",
       "      <th>149</th>\n",
       "      <td>5.9</td>\n",
       "      <td>3.0</td>\n",
       "      <td>5.1</td>\n",
       "      <td>1.8</td>\n",
       "      <td>virginica</td>\n",
       "    </tr>\n",
       "  </tbody>\n",
       "</table>\n",
       "<p>150 rows × 5 columns</p>\n",
       "</div>"
      ],
      "text/plain": [
       "     sepal_length  sepal_width  petal_length  petal_width    species\n",
       "0             5.1          3.5           1.4          0.2     setosa\n",
       "1             4.9          3.0           1.4          0.2     setosa\n",
       "2             4.7          3.2           1.3          0.2     setosa\n",
       "3             4.6          3.1           1.5          0.2     setosa\n",
       "4             5.0          3.6           1.4          0.2     setosa\n",
       "..            ...          ...           ...          ...        ...\n",
       "145           6.7          3.0           5.2          2.3  virginica\n",
       "146           6.3          2.5           5.0          1.9  virginica\n",
       "147           6.5          3.0           5.2          2.0  virginica\n",
       "148           6.2          3.4           5.4          2.3  virginica\n",
       "149           5.9          3.0           5.1          1.8  virginica\n",
       "\n",
       "[150 rows x 5 columns]"
      ]
     },
     "execution_count": 177,
     "metadata": {},
     "output_type": "execute_result"
    }
   ],
   "source": [
    "di\n"
   ]
  },
  {
   "cell_type": "markdown",
   "id": "2338cc50",
   "metadata": {},
   "source": [
    "## Question 1: (10 pts)\n"
   ]
  },
  {
   "cell_type": "code",
   "execution_count": 178,
   "id": "b4954425",
   "metadata": {},
   "outputs": [
    {
     "data": {
      "text/plain": [
       "array(['setosa', 'versicolor', 'virginica'], dtype=object)"
      ]
     },
     "execution_count": 178,
     "metadata": {},
     "output_type": "execute_result"
    }
   ],
   "source": [
    "di['species'].unique()"
   ]
  },
  {
   "cell_type": "code",
   "execution_count": 179,
   "id": "307ba838",
   "metadata": {},
   "outputs": [
    {
     "data": {
      "text/html": [
       "<div>\n",
       "<style scoped>\n",
       "    .dataframe tbody tr th:only-of-type {\n",
       "        vertical-align: middle;\n",
       "    }\n",
       "\n",
       "    .dataframe tbody tr th {\n",
       "        vertical-align: top;\n",
       "    }\n",
       "\n",
       "    .dataframe thead th {\n",
       "        text-align: right;\n",
       "    }\n",
       "</style>\n",
       "<table border=\"1\" class=\"dataframe\">\n",
       "  <thead>\n",
       "    <tr style=\"text-align: right;\">\n",
       "      <th></th>\n",
       "      <th>REF_DATE</th>\n",
       "      <th>GEO</th>\n",
       "      <th>Institution type</th>\n",
       "      <th>Registration status</th>\n",
       "      <th>International Standard Classification of Education (ISCED)</th>\n",
       "      <th>Field of study</th>\n",
       "      <th>Gender</th>\n",
       "      <th>Status of student in Canada</th>\n",
       "      <th>VALUE</th>\n",
       "    </tr>\n",
       "  </thead>\n",
       "  <tbody>\n",
       "    <tr>\n",
       "      <th>0</th>\n",
       "      <td>2018/2019</td>\n",
       "      <td>Newfoundland and Labrador</td>\n",
       "      <td>University</td>\n",
       "      <td>Full-time student</td>\n",
       "      <td>Bachelor's or equivalent</td>\n",
       "      <td>Education [1]</td>\n",
       "      <td>Male gender</td>\n",
       "      <td>Canadian students</td>\n",
       "      <td>129</td>\n",
       "    </tr>\n",
       "    <tr>\n",
       "      <th>1</th>\n",
       "      <td>2018/2019</td>\n",
       "      <td>Newfoundland and Labrador</td>\n",
       "      <td>University</td>\n",
       "      <td>Full-time student</td>\n",
       "      <td>Bachelor's or equivalent</td>\n",
       "      <td>Education [1]</td>\n",
       "      <td>Male gender</td>\n",
       "      <td>International students</td>\n",
       "      <td>3</td>\n",
       "    </tr>\n",
       "    <tr>\n",
       "      <th>2</th>\n",
       "      <td>2018/2019</td>\n",
       "      <td>Newfoundland and Labrador</td>\n",
       "      <td>University</td>\n",
       "      <td>Full-time student</td>\n",
       "      <td>Bachelor's or equivalent</td>\n",
       "      <td>Education [1]</td>\n",
       "      <td>Female gender</td>\n",
       "      <td>Canadian students</td>\n",
       "      <td>243</td>\n",
       "    </tr>\n",
       "    <tr>\n",
       "      <th>3</th>\n",
       "      <td>2018/2019</td>\n",
       "      <td>Newfoundland and Labrador</td>\n",
       "      <td>University</td>\n",
       "      <td>Full-time student</td>\n",
       "      <td>Bachelor's or equivalent</td>\n",
       "      <td>Education [1]</td>\n",
       "      <td>Female gender</td>\n",
       "      <td>International students</td>\n",
       "      <td>3</td>\n",
       "    </tr>\n",
       "    <tr>\n",
       "      <th>4</th>\n",
       "      <td>2018/2019</td>\n",
       "      <td>Newfoundland and Labrador</td>\n",
       "      <td>University</td>\n",
       "      <td>Full-time student</td>\n",
       "      <td>Bachelor's or equivalent</td>\n",
       "      <td>Education [1]</td>\n",
       "      <td>Gender unknown</td>\n",
       "      <td>Canadian students</td>\n",
       "      <td>3</td>\n",
       "    </tr>\n",
       "  </tbody>\n",
       "</table>\n",
       "</div>"
      ],
      "text/plain": [
       "    REF_DATE                        GEO Institution type Registration status  \\\n",
       "0  2018/2019  Newfoundland and Labrador       University   Full-time student   \n",
       "1  2018/2019  Newfoundland and Labrador       University   Full-time student   \n",
       "2  2018/2019  Newfoundland and Labrador       University   Full-time student   \n",
       "3  2018/2019  Newfoundland and Labrador       University   Full-time student   \n",
       "4  2018/2019  Newfoundland and Labrador       University   Full-time student   \n",
       "\n",
       "  International Standard Classification of Education (ISCED) Field of study  \\\n",
       "0                           Bachelor's or equivalent          Education [1]   \n",
       "1                           Bachelor's or equivalent          Education [1]   \n",
       "2                           Bachelor's or equivalent          Education [1]   \n",
       "3                           Bachelor's or equivalent          Education [1]   \n",
       "4                           Bachelor's or equivalent          Education [1]   \n",
       "\n",
       "           Gender Status of student in Canada  VALUE  \n",
       "0     Male gender           Canadian students    129  \n",
       "1     Male gender      International students      3  \n",
       "2   Female gender           Canadian students    243  \n",
       "3   Female gender      International students      3  \n",
       "4  Gender unknown           Canadian students      3  "
      ]
     },
     "execution_count": 179,
     "metadata": {},
     "output_type": "execute_result"
    }
   ],
   "source": [
    "df.head()\n"
   ]
  },
  {
   "cell_type": "code",
   "execution_count": 180,
   "id": "7116b5ee",
   "metadata": {},
   "outputs": [],
   "source": [
    "df1 = df[['Field of study' , 'GEO' , 'VALUE']].groupby(['Field of study', 'GEO']).sum().reset_index()"
   ]
  },
  {
   "cell_type": "code",
   "execution_count": 181,
   "id": "1f640107",
   "metadata": {},
   "outputs": [
    {
     "data": {
      "text/html": [
       "<div>\n",
       "<style scoped>\n",
       "    .dataframe tbody tr th:only-of-type {\n",
       "        vertical-align: middle;\n",
       "    }\n",
       "\n",
       "    .dataframe tbody tr th {\n",
       "        vertical-align: top;\n",
       "    }\n",
       "\n",
       "    .dataframe thead th {\n",
       "        text-align: right;\n",
       "    }\n",
       "</style>\n",
       "<table border=\"1\" class=\"dataframe\">\n",
       "  <thead>\n",
       "    <tr style=\"text-align: right;\">\n",
       "      <th></th>\n",
       "      <th>Field of study</th>\n",
       "      <th>GEO</th>\n",
       "      <th>VALUE</th>\n",
       "    </tr>\n",
       "  </thead>\n",
       "  <tbody>\n",
       "    <tr>\n",
       "      <th>91</th>\n",
       "      <td>Personal improvement and leisure [0]</td>\n",
       "      <td>Newfoundland and Labrador</td>\n",
       "      <td>3</td>\n",
       "    </tr>\n",
       "    <tr>\n",
       "      <th>150</th>\n",
       "      <td>Visual and performing arts and communications ...</td>\n",
       "      <td>Territories</td>\n",
       "      <td>12</td>\n",
       "    </tr>\n",
       "    <tr>\n",
       "      <th>92</th>\n",
       "      <td>Personal improvement and leisure [0]</td>\n",
       "      <td>Nova Scotia</td>\n",
       "      <td>12</td>\n",
       "    </tr>\n",
       "    <tr>\n",
       "      <th>107</th>\n",
       "      <td>Personal, protective and transportation servic...</td>\n",
       "      <td>Territories</td>\n",
       "      <td>15</td>\n",
       "    </tr>\n",
       "    <tr>\n",
       "      <th>83</th>\n",
       "      <td>Other  [12]</td>\n",
       "      <td>Prince Edward Island</td>\n",
       "      <td>15</td>\n",
       "    </tr>\n",
       "    <tr>\n",
       "      <th>...</th>\n",
       "      <td>...</td>\n",
       "      <td>...</td>\n",
       "      <td>...</td>\n",
       "    </tr>\n",
       "    <tr>\n",
       "      <th>50</th>\n",
       "      <td>Health and related fields [10]</td>\n",
       "      <td>Ontario</td>\n",
       "      <td>113781</td>\n",
       "    </tr>\n",
       "    <tr>\n",
       "      <th>17</th>\n",
       "      <td>Architecture, engineering and related technolo...</td>\n",
       "      <td>Ontario</td>\n",
       "      <td>114720</td>\n",
       "    </tr>\n",
       "    <tr>\n",
       "      <th>30</th>\n",
       "      <td>Business, management and public administration...</td>\n",
       "      <td>Quebec</td>\n",
       "      <td>115941</td>\n",
       "    </tr>\n",
       "    <tr>\n",
       "      <th>125</th>\n",
       "      <td>Social and behavioural sciences and law [4]</td>\n",
       "      <td>Ontario</td>\n",
       "      <td>136701</td>\n",
       "    </tr>\n",
       "    <tr>\n",
       "      <th>28</th>\n",
       "      <td>Business, management and public administration...</td>\n",
       "      <td>Ontario</td>\n",
       "      <td>171693</td>\n",
       "    </tr>\n",
       "  </tbody>\n",
       "</table>\n",
       "<p>151 rows × 3 columns</p>\n",
       "</div>"
      ],
      "text/plain": [
       "                                        Field of study  \\\n",
       "91                Personal improvement and leisure [0]   \n",
       "150  Visual and performing arts and communications ...   \n",
       "92                Personal improvement and leisure [0]   \n",
       "107  Personal, protective and transportation servic...   \n",
       "83                                         Other  [12]   \n",
       "..                                                 ...   \n",
       "50                      Health and related fields [10]   \n",
       "17   Architecture, engineering and related technolo...   \n",
       "30   Business, management and public administration...   \n",
       "125        Social and behavioural sciences and law [4]   \n",
       "28   Business, management and public administration...   \n",
       "\n",
       "                           GEO   VALUE  \n",
       "91   Newfoundland and Labrador       3  \n",
       "150                Territories      12  \n",
       "92                 Nova Scotia      12  \n",
       "107                Territories      15  \n",
       "83        Prince Edward Island      15  \n",
       "..                         ...     ...  \n",
       "50                     Ontario  113781  \n",
       "17                     Ontario  114720  \n",
       "30                      Quebec  115941  \n",
       "125                    Ontario  136701  \n",
       "28                     Ontario  171693  \n",
       "\n",
       "[151 rows x 3 columns]"
      ]
     },
     "execution_count": 181,
     "metadata": {},
     "output_type": "execute_result"
    }
   ],
   "source": [
    "df1.sort_values(by='VALUE')"
   ]
  },
  {
   "cell_type": "markdown",
   "id": "27a214bd",
   "metadata": {},
   "source": [
    "## Question 2: (15 pts)\n"
   ]
  },
  {
   "cell_type": "code",
   "execution_count": 182,
   "id": "6cd270ca",
   "metadata": {},
   "outputs": [],
   "source": [
    "fts= df[df['Registration status']=='Full-time student']"
   ]
  },
  {
   "cell_type": "code",
   "execution_count": 183,
   "id": "82139f68",
   "metadata": {},
   "outputs": [],
   "source": [
    "ftstotal=fts[['GEO','VALUE']].groupby('GEO').sum().reset_index()"
   ]
  },
  {
   "cell_type": "code",
   "execution_count": 184,
   "id": "4a18beaa",
   "metadata": {},
   "outputs": [
    {
     "data": {
      "text/plain": [
       "Text(0.5, 0, 'Number of Full Time Students')"
      ]
     },
     "execution_count": 184,
     "metadata": {},
     "output_type": "execute_result"
    },
    {
     "data": {
      "image/png": "[encoded data removed]",
      "text/plain": [
       "<Figure size 432x288 with 1 Axes>"
      ]
     },
     "metadata": {
      "needs_background": "light"
     },
     "output_type": "display_data"
    }
   ],
   "source": [
    "plt.plot(ftstotal ['VALUE'],ftstotal['GEO'],'^', color='red')\n",
    "plt.title('Full Time Canadian Students (2018)')\n",
    "plt.xlabel('Number of Full Time Students')"
   ]
  },
  {
   "cell_type": "markdown",
   "id": "968382a1",
   "metadata": {},
   "source": [
    "## Question 3: (10 pts)"
   ]
  },
  {
   "cell_type": "code",
   "execution_count": 185,
   "id": "21421f4c",
   "metadata": {},
   "outputs": [],
   "source": [
    "setiris=di[di['species']=='setosa']"
   ]
  },
  {
   "cell_type": "code",
   "execution_count": 186,
   "id": "a0aa549e",
   "metadata": {},
   "outputs": [],
   "source": [
    "versiris=di[di['species']=='versicolor']"
   ]
  },
  {
   "cell_type": "code",
   "execution_count": 187,
   "id": "d1c020a5",
   "metadata": {},
   "outputs": [],
   "source": [
    "virgiris=di[di['species']=='virginica']"
   ]
  },
  {
   "cell_type": "code",
   "execution_count": 194,
   "id": "f448cfb1",
   "metadata": {},
   "outputs": [
    {
     "data": {
      "text/plain": [
       "<matplotlib.legend.Legend at 0x15cb0505520>"
      ]
     },
     "execution_count": 194,
     "metadata": {},
     "output_type": "execute_result"
    },
    {
     "data": {
      "image/png": "[encoded data removed]",
      "text/plain": [
       "<Figure size 432x288 with 1 Axes>"
      ]
     },
     "metadata": {
      "needs_background": "light"
     },
     "output_type": "display_data"
    }
   ],
   "source": [
    "plt.scatter(setiris['petal_length'], setiris['petal_width'],label='setosa')\n",
    "plt.scatter(versiris['petal_length'], versiris['petal_width'],label='versicolor')\n",
    "plt.scatter(virgiris['petal_length'], virgiris['petal_width'],label='virginica')\n",
    "plt.xlabel('petal_length')\n",
    "plt.ylabel('petal_width')\n",
    "plt.title('Iris Petals')\n",
    "plt.legend()"
   ]
  },
  {
   "cell_type": "code",
   "execution_count": null,
   "id": "0e021c6b",
   "metadata": {},
   "outputs": [],
   "source": []
  }
 ],
 "metadata": {
  "kernelspec": {
   "display_name": "Python 3",
   "language": "python",
   "name": "python3"
  },
  "language_info": {
   "codemirror_mode": {
    "name": "ipython",
    "version": 3
   },
   "file_extension": ".py",
   "mimetype": "text/x-python",
   "name": "python",
   "nbconvert_exporter": "python",
   "pygments_lexer": "ipython3",
   "version": "3.8.8"
  }
 },
 "nbformat": 4,
 "nbformat_minor": 5
}
